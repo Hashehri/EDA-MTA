{
 "cells": [
  {
   "cell_type": "markdown",
   "metadata": {},
   "source": [
    "# Project Goal:\n",
    "***The project goal would be an identification of the subway stations that have the most crowded, to help an Ads agency target crowds from busy stations and present its marketing products. For these, I will analyze the visitors of all stations and identify the busiest stations to target. As a result, the crowds will be shown and detected on the live graph based on congestion time.***"
   ]
  },
  {
   "cell_type": "markdown",
   "metadata": {},
   "source": [
    "## Data Gathering:\n",
    "**In this section, I will gather the data from [MTA Turnstile dataset](http://web.mta.info/developers/turnstile.html) in the period from August to October of 2021**"
   ]
  },
  {
   "cell_type": "code",
   "execution_count": 2,
   "metadata": {},
   "outputs": [],
   "source": [
    "# Importing the necessary packages to collect data\n",
    "import pandas as pd \n",
    "\n",
    "#initialise the number of weeks for the dataset\n",
    "num_weeks = 13\n",
    "\n",
    "#initialise the date for the first week of the dataset (week ending on start_date)\n",
    "start_date = filedate = pd.Timestamp('2021-08-07 00:00:00')\n",
    "\n",
    "#initialise the regex for the MTA turnstile url\n",
    "filename_regex = \"http://web.mta.info/developers/data/nyct/turnstile/turnstile_{}.txt\"\n",
    "\n",
    "filelist = []\n",
    "\n",
    "for numfiles in range (num_weeks):\n",
    "\n",
    "    # create the appropriate filename for the week\n",
    "    filedate_str = str(filedate.year)[2:4] + str(filedate.month).zfill(2) + str(filedate.day).zfill(2)\n",
    "    filename = filename_regex.format(filedate_str)\n",
    "\n",
    "    # read the file and append it to the list of files to be concacated\n",
    "    df = pd.read_csv(filename, parse_dates=['DATE'], keep_date_col=True)\n",
    "    filelist.append(df)\n",
    "\n",
    "    # advance to the next week\n",
    "    filedate += pd.Timedelta(days=7)\n",
    "\n",
    "mta_test = pd.concat(filelist, axis=0, ignore_index=True)"
   ]
  },
  {
   "cell_type": "markdown",
   "metadata": {},
   "source": [
    "# Convert Data:\n",
    "**After gathering the required data, I will save it in CSV format**"
   ]
  },
  {
   "cell_type": "code",
   "execution_count": 13,
   "metadata": {},
   "outputs": [],
   "source": [
    "mta_test.to_csv('MTA_Dataset.csv', index=False)"
   ]
  },
  {
   "cell_type": "markdown",
   "metadata": {},
   "source": [
    "# Preparing the data:\n",
    "**In this section, I'm going to prepare the data I collected previously**"
   ]
  },
  {
   "cell_type": "markdown",
   "metadata": {},
   "source": [
    "## Field Description:\n",
    "\n",
    "<br />\n",
    "\n",
    "| Field Name  |                Description |\n",
    "| ----------- | ----------- |\n",
    "| C/A         | Control Area (e.g., A002)              |\n",
    "| UNIT        | Remote Unit for a station (e.g., R051) |\n",
    "| SCP      | Subunit Channel Position represents an specific address for a device (e.g., 02-00)|\n",
    "| STATION     | Represents the station name the device is located at |\n",
    "| LINENAME    | Represents all train lines that can be boarded at this station |\n",
    "| DIVISION    | Represents the Line originally the station belonged to BMT, IRT, or IND |\n",
    "| DATE        | Represents the date (MM-DD-YY) |\n",
    "| TIME        | Represents the time (hh:mm:ss) for a scheduled audit event |\n",
    "| DESC        | Represent the \"REGULAR\" scheduled audit event (Normally occurs every 4 hours) |\n",
    "| ENTRIES     | The comulative entry register value for a device |\n",
    "| EXITS       | The cumulative exit register value for a device |\n"
   ]
  },
  {
   "cell_type": "code",
   "execution_count": 15,
   "metadata": {},
   "outputs": [],
   "source": [
    "# Importing the necessary packages to prepare the data\n",
    "import matplotlib.pyplot as plt\n",
    "import seaborn as sns\n",
    "import numpy as np\n",
    "import datetime"
   ]
  },
  {
   "cell_type": "code",
   "execution_count": 16,
   "metadata": {},
   "outputs": [],
   "source": [
    "# Read the data fram\n",
    "df = pd.read_csv('MTA_Dataset.csv')"
   ]
  },
  {
   "cell_type": "code",
   "execution_count": 18,
   "metadata": {},
   "outputs": [],
   "source": [
    "# This script will fetch the data and produce an insightful summary\n",
    "def resumetable(df):\n",
    "    print(f\"Dataset Shape: {df.shape}\")\n",
    "    summary = pd.DataFrame(df.dtypes,columns=['dtypes'])\n",
    "    summary = summary.reset_index()\n",
    "    summary['Name'] = summary['index']\n",
    "    summary = summary[['Name','dtypes']]\n",
    "    summary['Missing'] = df.isnull().sum().values    \n",
    "    summary['Uniques'] = df.nunique().values\n",
    "    summary['First Value'] = df.loc[0].values\n",
    "    summary['Second Value'] = df.loc[1].values\n",
    "    summary['Third Value'] = df.loc[2].values\n",
    "\n",
    "    return summary"
   ]
  },
  {
   "cell_type": "code",
   "execution_count": 19,
   "metadata": {},
   "outputs": [
    {
     "name": "stdout",
     "output_type": "stream",
     "text": [
      "Dataset Shape: (2726588, 11)\n"
     ]
    },
    {
     "data": {
      "text/html": [
       "<div>\n",
       "<style scoped>\n",
       "    .dataframe tbody tr th:only-of-type {\n",
       "        vertical-align: middle;\n",
       "    }\n",
       "\n",
       "    .dataframe tbody tr th {\n",
       "        vertical-align: top;\n",
       "    }\n",
       "\n",
       "    .dataframe thead th {\n",
       "        text-align: right;\n",
       "    }\n",
       "</style>\n",
       "<table border=\"1\" class=\"dataframe\">\n",
       "  <thead>\n",
       "    <tr style=\"text-align: right;\">\n",
       "      <th></th>\n",
       "      <th>Name</th>\n",
       "      <th>dtypes</th>\n",
       "      <th>Missing</th>\n",
       "      <th>Uniques</th>\n",
       "      <th>First Value</th>\n",
       "      <th>Second Value</th>\n",
       "      <th>Third Value</th>\n",
       "    </tr>\n",
       "  </thead>\n",
       "  <tbody>\n",
       "    <tr>\n",
       "      <th>0</th>\n",
       "      <td>C/A</td>\n",
       "      <td>object</td>\n",
       "      <td>0</td>\n",
       "      <td>751</td>\n",
       "      <td>A002</td>\n",
       "      <td>A002</td>\n",
       "      <td>A002</td>\n",
       "    </tr>\n",
       "    <tr>\n",
       "      <th>1</th>\n",
       "      <td>UNIT</td>\n",
       "      <td>object</td>\n",
       "      <td>0</td>\n",
       "      <td>469</td>\n",
       "      <td>R051</td>\n",
       "      <td>R051</td>\n",
       "      <td>R051</td>\n",
       "    </tr>\n",
       "    <tr>\n",
       "      <th>2</th>\n",
       "      <td>SCP</td>\n",
       "      <td>object</td>\n",
       "      <td>0</td>\n",
       "      <td>224</td>\n",
       "      <td>02-00-00</td>\n",
       "      <td>02-00-00</td>\n",
       "      <td>02-00-00</td>\n",
       "    </tr>\n",
       "    <tr>\n",
       "      <th>3</th>\n",
       "      <td>STATION</td>\n",
       "      <td>object</td>\n",
       "      <td>0</td>\n",
       "      <td>379</td>\n",
       "      <td>59 ST</td>\n",
       "      <td>59 ST</td>\n",
       "      <td>59 ST</td>\n",
       "    </tr>\n",
       "    <tr>\n",
       "      <th>4</th>\n",
       "      <td>LINENAME</td>\n",
       "      <td>object</td>\n",
       "      <td>0</td>\n",
       "      <td>114</td>\n",
       "      <td>NQR456W</td>\n",
       "      <td>NQR456W</td>\n",
       "      <td>NQR456W</td>\n",
       "    </tr>\n",
       "    <tr>\n",
       "      <th>5</th>\n",
       "      <td>DIVISION</td>\n",
       "      <td>object</td>\n",
       "      <td>0</td>\n",
       "      <td>6</td>\n",
       "      <td>BMT</td>\n",
       "      <td>BMT</td>\n",
       "      <td>BMT</td>\n",
       "    </tr>\n",
       "    <tr>\n",
       "      <th>6</th>\n",
       "      <td>DATE</td>\n",
       "      <td>object</td>\n",
       "      <td>0</td>\n",
       "      <td>91</td>\n",
       "      <td>2021-07-31</td>\n",
       "      <td>2021-07-31</td>\n",
       "      <td>2021-07-31</td>\n",
       "    </tr>\n",
       "    <tr>\n",
       "      <th>7</th>\n",
       "      <td>TIME</td>\n",
       "      <td>object</td>\n",
       "      <td>0</td>\n",
       "      <td>57061</td>\n",
       "      <td>00:00:00</td>\n",
       "      <td>04:00:00</td>\n",
       "      <td>08:00:00</td>\n",
       "    </tr>\n",
       "    <tr>\n",
       "      <th>8</th>\n",
       "      <td>DESC</td>\n",
       "      <td>object</td>\n",
       "      <td>0</td>\n",
       "      <td>2</td>\n",
       "      <td>REGULAR</td>\n",
       "      <td>REGULAR</td>\n",
       "      <td>REGULAR</td>\n",
       "    </tr>\n",
       "    <tr>\n",
       "      <th>9</th>\n",
       "      <td>ENTRIES</td>\n",
       "      <td>int64</td>\n",
       "      <td>0</td>\n",
       "      <td>1833843</td>\n",
       "      <td>7611181</td>\n",
       "      <td>7611192</td>\n",
       "      <td>7611197</td>\n",
       "    </tr>\n",
       "    <tr>\n",
       "      <th>10</th>\n",
       "      <td>EXITS                                         ...</td>\n",
       "      <td>int64</td>\n",
       "      <td>0</td>\n",
       "      <td>1728845</td>\n",
       "      <td>2603110</td>\n",
       "      <td>2603113</td>\n",
       "      <td>2603126</td>\n",
       "    </tr>\n",
       "  </tbody>\n",
       "</table>\n",
       "</div>"
      ],
      "text/plain": [
       "                                                 Name  dtypes  Missing  \\\n",
       "0                                                 C/A  object        0   \n",
       "1                                                UNIT  object        0   \n",
       "2                                                 SCP  object        0   \n",
       "3                                             STATION  object        0   \n",
       "4                                            LINENAME  object        0   \n",
       "5                                            DIVISION  object        0   \n",
       "6                                                DATE  object        0   \n",
       "7                                                TIME  object        0   \n",
       "8                                                DESC  object        0   \n",
       "9                                             ENTRIES   int64        0   \n",
       "10  EXITS                                         ...   int64        0   \n",
       "\n",
       "    Uniques First Value Second Value Third Value  \n",
       "0       751        A002         A002        A002  \n",
       "1       469        R051         R051        R051  \n",
       "2       224    02-00-00     02-00-00    02-00-00  \n",
       "3       379       59 ST        59 ST       59 ST  \n",
       "4       114     NQR456W      NQR456W     NQR456W  \n",
       "5         6         BMT          BMT         BMT  \n",
       "6        91  2021-07-31   2021-07-31  2021-07-31  \n",
       "7     57061    00:00:00     04:00:00    08:00:00  \n",
       "8         2     REGULAR      REGULAR     REGULAR  \n",
       "9   1833843     7611181      7611192     7611197  \n",
       "10  1728845     2603110      2603113     2603126  "
      ]
     },
     "execution_count": 19,
     "metadata": {},
     "output_type": "execute_result"
    }
   ],
   "source": [
    "resumetable(df)"
   ]
  },
  {
   "cell_type": "code",
   "execution_count": null,
   "metadata": {},
   "outputs": [],
   "source": [
    "# station_code = C/A + unit, locating a station\n",
    "# turnstile = C/A + unit + SCP, locating a turnstile\n",
    "# datetime = date + time (MM-DD-YY hh:mm:ss)"
   ]
  },
  {
   "cell_type": "code",
   "execution_count": 22,
   "metadata": {},
   "outputs": [
    {
     "data": {
      "text/plain": [
       "Index(['C/A', 'UNIT', 'SCP', 'STATION', 'LINENAME', 'DIVISION', 'DATE', 'TIME',\n",
       "       'DESC', 'ENTRIES',\n",
       "       'EXITS                                                               '],\n",
       "      dtype='object')"
      ]
     },
     "execution_count": 22,
     "metadata": {},
     "output_type": "execute_result"
    }
   ],
   "source": [
    "df.columns"
   ]
  },
  {
   "cell_type": "markdown",
   "metadata": {},
   "source": [
    "# Column renaming:\n",
    "***After I saw the data columns, I notice that the EXITS column of dataset,\n",
    "<br />\n",
    "has a whole banch of trailing spaces,\n",
    "<br />\n",
    "So to make our data exploration easier I will renamed it :)*** "
   ]
  },
  {
   "cell_type": "code",
   "execution_count": 23,
   "metadata": {},
   "outputs": [],
   "source": [
    "df.rename(columns = {'EXITS                                                               ':'EXITS'},\n",
    "         inplace = True)"
   ]
  },
  {
   "cell_type": "code",
   "execution_count": 24,
   "metadata": {},
   "outputs": [
    {
     "data": {
      "text/plain": [
       "Index(['C/A', 'UNIT', 'SCP', 'STATION', 'LINENAME', 'DIVISION', 'DATE', 'TIME',\n",
       "       'DESC', 'ENTRIES', 'EXITS'],\n",
       "      dtype='object')"
      ]
     },
     "execution_count": 24,
     "metadata": {},
     "output_type": "execute_result"
    }
   ],
   "source": [
    "df.columns"
   ]
  },
  {
   "cell_type": "code",
   "execution_count": null,
   "metadata": {},
   "outputs": [],
   "source": []
  }
 ],
 "metadata": {
  "kernelspec": {
   "display_name": "Python 3",
   "language": "python",
   "name": "python3"
  },
  "language_info": {
   "codemirror_mode": {
    "name": "ipython",
    "version": 3
   },
   "file_extension": ".py",
   "mimetype": "text/x-python",
   "name": "python",
   "nbconvert_exporter": "python",
   "pygments_lexer": "ipython3",
   "version": "3.8.5"
  }
 },
 "nbformat": 4,
 "nbformat_minor": 4
}
