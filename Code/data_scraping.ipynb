{
 "cells": [
  {
   "cell_type": "code",
   "execution_count": 3,
   "metadata": {},
   "outputs": [],
   "source": [
    "import pandas as pd\n",
    "from datetime import date, timedelta\n",
    "import urllib.request"
   ]
  },
  {
   "cell_type": "code",
   "execution_count": 4,
   "metadata": {},
   "outputs": [
    {
     "name": "stdout",
     "output_type": "stream",
     "text": [
      "['210807', '210814', '210821', '210828', '210904', '210911', '210918', '210925', '211002', '211009', '211016', '211023', '211030', '211106']\n"
     ]
    }
   ],
   "source": [
    "#get the dates for the files\n",
    "def all_saturdays(year, month_start, month_end):\n",
    "    date_range = []\n",
    "    date_start = date(year, month_start, 1)\n",
    "    date_end = date(year, month_end, 31)\n",
    "    date_start += timedelta(days = 5 - date_start.weekday()) #First Saturday\n",
    "    while date_start <date_end:\n",
    "        date_start += timedelta(weeks=1)\n",
    "        date_range.append(date_start.strftime(\"%y%m%d\"))\n",
    "    return date_range\n",
    "\n",
    "week_nums = []\n",
    "week_nums += all_saturdays(2021, 8, 10)\n",
    "print(week_nums)"
   ]
  },
  {
   "cell_type": "code",
   "execution_count": 5,
   "metadata": {},
   "outputs": [
    {
     "name": "stdout",
     "output_type": "stream",
     "text": [
      "['210807', '210814', '210821', '210828', '210904', '210911', '210918', '210925', '211002', '211009', '211016', '211023', '211030']\n"
     ]
    }
   ],
   "source": [
    "#dropping last dates\n",
    "week_nums = week_nums[-1]\n",
    "print(week_nums)"
   ]
  },
  {
   "cell_type": "code",
   "execution_count": 10,
   "metadata": {},
   "outputs": [],
   "source": [
    "#function for retrieving files from the link\n",
    "def get_data(week_nums):\n",
    "    for week_num in week_nums:\n",
    "        urllib.request.urlretrieve(f'http://web.mta.info/developers/data/nyct/turnstile/turnstile_{week_num}.txt',\n",
    "                              f\"data/turnstile_{week_num}.txt\")"
   ]
  },
  {
   "cell_type": "code",
   "execution_count": 11,
   "metadata": {},
   "outputs": [],
   "source": [
    "#download all the txt files\n",
    "get_data(week_nums)"
   ]
  },
  {
   "cell_type": "code",
   "execution_count": 25,
   "metadata": {},
   "outputs": [],
   "source": [
    "import os\n",
    "import pandas as pd\n",
    "\n",
    "dirpath = '/Users/hs/Documents/Anaconda_Python_code/SD_BootCamp/EDA-Project/Testing/data'\n",
    "output = '/Users/hs/Documents/Anaconda_Python_code/SD_BootCamp/EDA-Project/Testing/mta_dataset.csv'\n",
    "csvout_lst = []\n",
    "files = [os.path.join(dirpath, fname) for fname in os.listdir(dirpath)]\n",
    "\n",
    "for filename in sorted(files):\n",
    "    data = pd.read_csv(filename, sep=',', index_col=0)\n",
    "    csvout_lst.append(data)\n",
    "\n",
    "pd.concat(csvout_lst).to_csv(output)"
   ]
  },
  {
   "cell_type": "code",
   "execution_count": null,
   "metadata": {},
   "outputs": [],
   "source": []
  }
 ],
 "metadata": {
  "interpreter": {
   "hash": "40d3a090f54c6569ab1632332b64b2c03c39dcf918b08424e98f38b5ae0af88f"
  },
  "kernelspec": {
   "display_name": "Python 3",
   "language": "python",
   "name": "python3"
  },
  "language_info": {
   "codemirror_mode": {
    "name": "ipython",
    "version": 3
   },
   "file_extension": ".py",
   "mimetype": "text/x-python",
   "name": "python",
   "nbconvert_exporter": "python",
   "pygments_lexer": "ipython3",
   "version": "3.8.5"
  }
 },
 "nbformat": 4,
 "nbformat_minor": 2
}
